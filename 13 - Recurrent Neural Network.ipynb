{
  "cells": [
    {
      "cell_type": "markdown",
      "metadata": {
        "id": "e9wp38iEgQJa"
      },
      "source": [
        "**In this homework, you will implement several AI models to conduct the intent detection task.**\n",
        "![alt text](https://i.ibb.co/fXmYHRq/ec5.jpg)"
      ]
    },
    {
      "cell_type": "markdown",
      "metadata": {
        "id": "QgSA_YXpHwFI"
      },
      "source": [
        "# Part 0: Data Preprocessing"
      ]
    },
    {
      "cell_type": "markdown",
      "metadata": {
        "id": "CuPUTB25ghjz"
      },
      "source": [
        "In this section, you will have a general idea of how the data looks like and do some simple transformation."
      ]
    },
    {
      "cell_type": "code",
      "execution_count": 3,
      "metadata": {
        "id": "xYqcSyQsmgf1"
      },
      "outputs": [],
      "source": [
        "import pickle\n",
        "samples = pickle.load(open(\"sample.p\", \"rb\"))\n",
        "test_sentences = pickle.load(open(\"test_sentences.p\", \"rb\"))"
      ]
    },
    {
      "cell_type": "code",
      "execution_count": 4,
      "metadata": {
        "colab": {
          "base_uri": "https://localhost:8080/"
        },
        "id": "AicwRkV-mzqj",
        "outputId": "140ad3d4-cd80-481d-b928-32a14eb1a899"
      },
      "outputs": [
        {
          "name": "stdout",
          "output_type": "stream",
          "text": [
            "[['Turn off the holoemitter.', 2], ['Halt.', 1], ['Get off tiptoes', 6]]\n"
          ]
        }
      ],
      "source": [
        "###data structure###\n",
        "### [[sentence, label]] ###\n",
        "print(samples[:3])"
      ]
    },
    {
      "cell_type": "markdown",
      "metadata": {
        "id": "f1m_-5m2eymC"
      },
      "source": [
        "There are nine categories for these sentences, which are 'no', 'driving', 'light', 'head', 'state', 'connection', 'stance', 'animation' and 'grid'. The mapping from index to category name are shown below."
      ]
    },
    {
      "cell_type": "code",
      "execution_count": 5,
      "metadata": {
        "id": "YapxZx0sWhDg"
      },
      "outputs": [],
      "source": [
        "ind2cat = {0: 'no', 1: 'driving', 2: 'light', 3: 'head', 4: 'state', 5: 'connection', 6: 'stance', 7: 'animation', 8: 'grid'}"
      ]
    },
    {
      "cell_type": "code",
      "execution_count": 6,
      "metadata": {
        "colab": {
          "base_uri": "https://localhost:8080/"
        },
        "id": "R1hHO6pInCH3",
        "outputId": "4bdb6a44-261f-4805-b45b-c405786a6a68"
      },
      "outputs": [
        {
          "name": "stdout",
          "output_type": "stream",
          "text": [
            "number of sentences for each category\n",
            "light :  716\n",
            "driving :  784\n",
            "stance :  758\n",
            "head :  698\n",
            "grid :  678\n",
            "state :  676\n",
            "animation :  645\n",
            "no :  629\n",
            "connection :  673\n"
          ]
        }
      ],
      "source": [
        "### Distribution on categories ###\n",
        "cat2sentence = {}\n",
        "for sample in samples:\n",
        "  sentence = sample[0]\n",
        "  cat = ind2cat[sample[1]]\n",
        "  if cat not in cat2sentence:\n",
        "    cat2sentence[cat] = [sentence]\n",
        "  else:\n",
        "    cat2sentence[cat].append(sentence)\n",
        "\n",
        "print(\"number of sentences for each category\")\n",
        "for cat, sentences in cat2sentence.items():\n",
        "  print(cat, \": \", len(sentences))"
      ]
    },
    {
      "cell_type": "markdown",
      "metadata": {
        "id": "blzu6p9hoJgi"
      },
      "source": [
        "### Train/Validation Split"
      ]
    },
    {
      "cell_type": "code",
      "execution_count": 7,
      "metadata": {
        "id": "ReEMaskjoMZt"
      },
      "outputs": [],
      "source": [
        "from sklearn.model_selection import train_test_split\n",
        "SENTENCES = [sample[0] for sample in samples]\n",
        "LABELS = [sample[1] for sample in samples]\n",
        "X_train, X_val, y_train, y_val = train_test_split(SENTENCES, LABELS, test_size=0.2)"
      ]
    },
    {
      "cell_type": "markdown",
      "metadata": {
        "id": "3Hh5RkEiHrt8"
      },
      "source": [
        "### Clean Text\n",
        "Write a tokenization function clean(sentence) which takes as input a string of text and returns a list of tokens derived from that text. Here, we define a token to be a contiguous sequence of non-whitespace characters. We will remove punctuation marks and convert the text to lowercase. Hint: Use the built-in constant string.punctuation, found in the string module, and/or python's regex library, re."
      ]
    },
    {
      "cell_type": "code",
      "execution_count": 8,
      "metadata": {
        "colab": {
          "base_uri": "https://localhost:8080/"
        },
        "id": "eM0rg6vdHmxy",
        "outputId": "0f84534b-1e87-49f0-c1e9-f74e0c8dbeb2"
      },
      "outputs": [
        {
          "name": "stdout",
          "output_type": "stream",
          "text": [
            "[nltk_data] Downloading package stopwords to /root/nltk_data...\n",
            "[nltk_data]   Unzipping corpora/stopwords.zip.\n"
          ]
        }
      ],
      "source": [
        "import numpy as np\n",
        "import nltk\n",
        "import re\n",
        "nltk.download('stopwords')\n",
        "from nltk.corpus import stopwords\n",
        "STOPWORDS = stopwords.words('english')\n",
        "\n",
        "def clean(sentence):\n",
        "  '''1. tokenize the sentence (remove punctuation)\n",
        "     2. remove the stop words\n",
        "     3. convert all words to lowercase'''\n",
        "  sentence = re.sub(r\"[^\\w]\", \" \", sentence).lower().split()  #1, 3\n",
        "  sentence = [i for i in sentence if i not in STOPWORDS]      #2\n",
        "  return sentence\n",
        "\n",
        "X_train_token = [clean(sentence) for sentence in X_train]\n",
        "X_val_token = [clean(sentence) for sentence in X_val]"
      ]
    },
    {
      "cell_type": "code",
      "execution_count": 9,
      "metadata": {
        "id": "GRb6Z7qBNgsm"
      },
      "outputs": [],
      "source": [
        "X_token = X_train_token + X_val_token\n",
        "max_len = np.max([len(i) for i in X_token]) # Find the maximum length of tokens in train/val"
      ]
    },
    {
      "cell_type": "markdown",
      "metadata": {
        "id": "CskkruUAMMfI"
      },
      "source": [
        "### Build a Vocabulary\n",
        "Build a vocabulary to map each word to an index, you need to first find the unique words in train/val set.\n",
        "\n",
        "Once you build a vocabulary, it's better to save it to a file for future use. Because the vocabulary may change each time you run the code."
      ]
    },
    {
      "cell_type": "code",
      "execution_count": 10,
      "metadata": {
        "id": "DAxoqREjMMCI"
      },
      "outputs": [],
      "source": [
        "temp_count = [j for i in X_token for j in i]\n",
        "word_count = {i: temp_count.count(i) for i in set(temp_count)} # count the frequency of each word\n",
        "\n",
        "word2ind = {} # build your vocabulary\n",
        "for i, x in enumerate(word_count):\n",
        "  word2ind[x] = i\n",
        "\n",
        "vocab_size = len(word2ind)"
      ]
    },
    {
      "cell_type": "markdown",
      "metadata": {
        "id": "RQuybRo1HqO-"
      },
      "source": [
        "# Part 1: Recurrent Neural Network"
      ]
    },
    {
      "cell_type": "markdown",
      "metadata": {
        "id": "opl1oMHFN0Ph"
      },
      "source": [
        "### Convert token to vector\n",
        "Convert each list of tokens into an array use the vocabulary you built before. The length of the vector is the max_len and remember to do zero-padding if a list's lenghth is smaller than max_len."
      ]
    },
    {
      "cell_type": "code",
      "execution_count": 11,
      "metadata": {
        "id": "D5zwLf-SOU0W"
      },
      "outputs": [],
      "source": [
        "def vectorize(tokens, max_len, word2ind):\n",
        "  '''\n",
        "  Input: list of tokens\n",
        "  Output: 1D numpy array (length = max_len)\n",
        "  '''\n",
        "  word_ind = np.zeros((max_len, ))\n",
        "  for i in range(len(tokens)):\n",
        "    word_ind[i] = word2ind.get(tokens[i], 0)\n",
        "  return word_ind\n",
        "\n",
        "def vectorize_tokens(tokens, max_len, min_len, word2ind):\n",
        "  '''\n",
        "  Input: list of tokens\n",
        "  Output: 1D numpy array (length = max_len)\n",
        "  '''\n",
        "  word_ind = np.zeros((max_len, ))\n",
        "  for i in range(min_len):\n",
        "    if (tokens[i], _ in word2ind.items()):\n",
        "      word_ind[i] = word2ind.get(tokens[i], 0)\n",
        "  return word_ind\n",
        "\n",
        "X_train_array = np.array([vectorize(tokens, max_len, word2ind) for tokens in X_train_token])\n",
        "X_val_array = np.array([vectorize(tokens, max_len, word2ind) for tokens in X_val_token])\n",
        "assert X_train_array.shape[-1] == max_len"
      ]
    },
    {
      "cell_type": "markdown",
      "metadata": {
        "id": "ATfeiT7IUftX"
      },
      "source": [
        "### One-hot label\n",
        "Convert the scalar label to 1D array (length = 9), e.g 0 -> array([1, 0, 0, 0, 0, 0, 0, 0, 0])"
      ]
    },
    {
      "cell_type": "code",
      "execution_count": 12,
      "metadata": {
        "id": "Gru9TAqnUfYh"
      },
      "outputs": [],
      "source": [
        "def onehot(y):\n",
        "  y_onehot = np.zeros((len(y), len(ind2cat)))\n",
        "  for i, x in enumerate(y):\n",
        "    y_onehot[i, x] = 1\n",
        "  return y_onehot\n",
        "\n",
        "y_train_onehot = onehot(y_train)\n",
        "y_val_onehot = onehot(y_val)\n",
        "assert y_train_onehot.shape[1] == 9"
      ]
    },
    {
      "cell_type": "markdown",
      "metadata": {
        "id": "Fsp0pgj6PI6A"
      },
      "source": [
        "### Build the Recurrent Neural Network\n",
        "Now it's time to build the RNN network to do the classification task, you could just refer to this [official document](https://www.tensorflow.org/guide/keras/rnn).\n",
        "\n",
        "You will need the Embedding layer, RNN layer and Dense layer, your last layer should project to the number of labels."
      ]
    },
    {
      "cell_type": "code",
      "execution_count": 13,
      "metadata": {
        "colab": {
          "base_uri": "https://localhost:8080/"
        },
        "id": "3ODSzrR2RbbR",
        "outputId": "b489903f-aaec-4e71-fd0c-089f1c94342e"
      },
      "outputs": [
        {
          "name": "stdout",
          "output_type": "stream",
          "text": [
            "Model: \"sequential\"\n",
            "_________________________________________________________________\n",
            " Layer (type)                Output Shape              Param #   \n",
            "=================================================================\n",
            " embedding (Embedding)       (None, None, 64)          87168     \n",
            "                                                                 \n",
            " lstm (LSTM)                 (None, None, 64)          33024     \n",
            "                                                                 \n",
            " lstm_1 (LSTM)               (None, 64)                33024     \n",
            "                                                                 \n",
            " dense (Dense)               (None, 9)                 585       \n",
            "                                                                 \n",
            "=================================================================\n",
            "Total params: 153,801\n",
            "Trainable params: 153,801\n",
            "Non-trainable params: 0\n",
            "_________________________________________________________________\n"
          ]
        }
      ],
      "source": [
        "import numpy as np\n",
        "import tensorflow as tf\n",
        "from tensorflow import keras\n",
        "from tensorflow.keras import layers\n",
        "from tensorflow.keras.layers import Embedding, LSTM, Dense\n",
        "\n",
        "model = keras.Sequential()\n",
        "# Embedding Layer, Input Dimension = vocab_size, Output Dimension = 64\n",
        "model.add(Embedding(input_dim=vocab_size, output_dim=64))\n",
        "# Two LSTM layers with 64 Units\n",
        "model.add(LSTM(64, return_sequences=True))\n",
        "model.add(LSTM(64))\n",
        "# Dense to the number of classes with softmax activation function\n",
        "model.add(Dense(9, activation=\"softmax\"))\n",
        "model.summary()"
      ]
    },
    {
      "cell_type": "code",
      "execution_count": 14,
      "metadata": {
        "colab": {
          "base_uri": "https://localhost:8080/"
        },
        "id": "2oLUl6dVYTIN",
        "outputId": "bbcbc574-52fd-4250-a417-c2c9b0e5c9f0"
      },
      "outputs": [
        {
          "name": "stdout",
          "output_type": "stream",
          "text": [
            "Epoch 1/10\n",
            "313/313 [==============================] - 14s 22ms/step - loss: 1.6520 - accuracy: 0.3504 - val_loss: 1.2263 - val_accuracy: 0.5487\n",
            "Epoch 2/10\n",
            "313/313 [==============================] - 6s 19ms/step - loss: 0.8124 - accuracy: 0.7019 - val_loss: 0.6703 - val_accuracy: 0.7859\n",
            "Epoch 3/10\n",
            "313/313 [==============================] - 6s 19ms/step - loss: 0.4647 - accuracy: 0.8621 - val_loss: 0.5161 - val_accuracy: 0.8642\n",
            "Epoch 4/10\n",
            "313/313 [==============================] - 6s 19ms/step - loss: 0.3580 - accuracy: 0.9015 - val_loss: 0.5692 - val_accuracy: 0.8427\n",
            "Epoch 5/10\n",
            "313/313 [==============================] - 6s 19ms/step - loss: 0.3205 - accuracy: 0.9123 - val_loss: 0.5699 - val_accuracy: 0.8083\n",
            "Epoch 6/10\n",
            "313/313 [==============================] - 6s 19ms/step - loss: 0.2659 - accuracy: 0.9275 - val_loss: 0.3343 - val_accuracy: 0.9297\n",
            "Epoch 7/10\n",
            "313/313 [==============================] - 6s 19ms/step - loss: 0.2212 - accuracy: 0.9403 - val_loss: 0.3668 - val_accuracy: 0.9034\n",
            "Epoch 8/10\n",
            "313/313 [==============================] - 6s 19ms/step - loss: 0.2007 - accuracy: 0.9465 - val_loss: 0.3248 - val_accuracy: 0.9121\n",
            "Epoch 9/10\n",
            "313/313 [==============================] - 6s 19ms/step - loss: 0.2368 - accuracy: 0.9361 - val_loss: 0.3625 - val_accuracy: 0.9241\n",
            "Epoch 10/10\n",
            "313/313 [==============================] - 6s 19ms/step - loss: 0.1737 - accuracy: 0.9574 - val_loss: 0.3328 - val_accuracy: 0.9241\n"
          ]
        },
        {
          "data": {
            "text/plain": [
              "<keras.callbacks.History at 0x7f6933f16d10>"
            ]
          },
          "execution_count": 14,
          "metadata": {},
          "output_type": "execute_result"
        }
      ],
      "source": [
        "model.compile(optimizer='adam', loss='categorical_crossentropy',metrics=['accuracy'])\n",
        "model.fit(X_train_array, y_train_onehot, batch_size=16, epochs=10, validation_data=(X_val_array, y_val_onehot))"
      ]
    },
    {
      "cell_type": "markdown",
      "metadata": {
        "id": "MH1Xe7EMlITl"
      },
      "source": [
        "### Evaluate on the test sentences\n",
        "Now run your model to predict on the test sentences, you need to do the preprocessing on these sentences first and save your prediction to a list of labels, e.g [0, 2, 1, 5, ....]"
      ]
    },
    {
      "cell_type": "code",
      "execution_count": 15,
      "metadata": {
        "id": "sBKwqNUElnyu"
      },
      "outputs": [],
      "source": [
        "test_prediction = []\n",
        "#TODO\n",
        "test_token = [clean(sentence) for sentence in test_sentences]\n",
        "test_array = np.array([vectorize_tokens(i, max_len, np.minimum(max_len, len(i)), word2ind) for i in test_token])\n",
        "test_prediction = np.argmax(model.predict(test_array), axis=1)"
      ]
    },
    {
      "cell_type": "markdown",
      "metadata": {
        "id": "x8v6GBKws0Z7"
      },
      "source": [
        "# Part 2. Word Embedding via pymagnitude\n",
        "Instead of using the vocabulary to convert word to number, you could use pretrained word embeddings to do the task."
      ]
    },
    {
      "cell_type": "markdown",
      "metadata": {
        "id": "-VzKjJNNxkYH"
      },
      "source": [
        "Next, you'll need to download a pre-trained set of word embeddings. We'll get a set trained with Google's word2vec algorithm, which we discussed in class. You can check the full list of available embeddings, feel free to try different embeddings."
      ]
    },
    {
      "cell_type": "code",
      "execution_count": 19,
      "metadata": {
        "id": "ngFFKNj8yAU5"
      },
      "outputs": [],
      "source": [
        "# Load the embedding\n",
        "from pymagnitude import *\n",
        "vectors = Magnitude(\"GoogleNews-vectors-negative300.magnitude\") \n",
        "D = vectors.query(\"cat\").shape[0]"
      ]
    },
    {
      "cell_type": "markdown",
      "metadata": {
        "id": "-pdRsfIuVxIg"
      },
      "source": [
        "### Convert tokens to embeddings\n",
        "You could now use the pymagnitude to query each token and convert them to a list of embeddings. Note that you need to do zero padding to match the maximum length."
      ]
    },
    {
      "cell_type": "code",
      "execution_count": 20,
      "metadata": {
        "id": "K0LMW9_OXjs-"
      },
      "outputs": [],
      "source": [
        "def embedding(list_tokens, max_len, vectors, D):\n",
        "  '''\n",
        "  return an array with the shape (n_of_samples, max_len, D)\n",
        "  '''\n",
        "  n_of_samples = len(list_tokens)\n",
        "  word_ind = np.zeros((n_of_samples, max_len, D))\n",
        "  for i in range(n_of_samples):\n",
        "    tokens = list_tokens[i]\n",
        "    min_len = np.minimum(max_len, len(tokens))\n",
        "    for j in range(min_len):\n",
        "      word_ind[i, j, :] = vectors.query(tokens[j])\n",
        "  return word_ind\n",
        "  \n",
        "X_train_embedding = embedding(X_train_token, max_len, vectors, D)\n",
        "X_val_embedding = embedding(X_val_token, max_len, vectors, D)\n",
        "\n",
        "assert X_train_embedding.shape[-1] == D\n",
        "assert X_train_embedding.shape[-2] == max_len"
      ]
    },
    {
      "cell_type": "markdown",
      "metadata": {
        "id": "uxoxUCB8YPul"
      },
      "source": [
        "### Build the RNN model\n",
        "Similar to Part 1, build a RNN model using your new embedding."
      ]
    },
    {
      "cell_type": "code",
      "execution_count": 21,
      "metadata": {
        "colab": {
          "base_uri": "https://localhost:8080/"
        },
        "id": "ER6xPrArYPLb",
        "outputId": "91c09a70-13bb-40ac-9829-ee86aa0c19c8"
      },
      "outputs": [
        {
          "name": "stdout",
          "output_type": "stream",
          "text": [
            "Model: \"sequential_1\"\n",
            "_________________________________________________________________\n",
            " Layer (type)                Output Shape              Param #   \n",
            "=================================================================\n",
            " lstm_2 (LSTM)               (None, 29, 256)           570368    \n",
            "                                                                 \n",
            " lstm_3 (LSTM)               (None, 128)               197120    \n",
            "                                                                 \n",
            " dense_1 (Dense)             (None, 64)                8256      \n",
            "                                                                 \n",
            " dense_2 (Dense)             (None, 9)                 585       \n",
            "                                                                 \n",
            "=================================================================\n",
            "Total params: 776,329\n",
            "Trainable params: 776,329\n",
            "Non-trainable params: 0\n",
            "_________________________________________________________________\n"
          ]
        }
      ],
      "source": [
        "import numpy as np\n",
        "import tensorflow as tf\n",
        "from tensorflow import keras\n",
        "from tensorflow.keras import layers\n",
        "from tensorflow.keras.layers import LSTM, Dense\n",
        "\n",
        "model = keras.Sequential()\n",
        "#TODO\n",
        "# LSTM Layer with input shape (max_len, D), output shape (max_len, 256)\n",
        "model.add(LSTM(256, input_shape=(max_len, D), return_sequences=True))\n",
        "# LSTM Layer with 128 units\n",
        "model.add(LSTM(128))\n",
        "# Dense to 64 with tanh activation function\n",
        "model.add(Dense(64, activation=\"tanh\"))\n",
        "# Dense to number of classes with softmax function\n",
        "model.add(Dense(9, activation=\"softmax\"))\n",
        "model.summary()"
      ]
    },
    {
      "cell_type": "code",
      "execution_count": 22,
      "metadata": {
        "colab": {
          "base_uri": "https://localhost:8080/"
        },
        "id": "EDyV_5F2kwFT",
        "outputId": "06bbdac2-0f85-4058-d75f-75331f3f8d49"
      },
      "outputs": [
        {
          "name": "stdout",
          "output_type": "stream",
          "text": [
            "Epoch 1/10\n",
            "313/313 [==============================] - 16s 35ms/step - loss: 1.3428 - accuracy: 0.4743 - val_loss: 0.9778 - val_accuracy: 0.6949\n",
            "Epoch 2/10\n",
            "313/313 [==============================] - 9s 30ms/step - loss: 1.1143 - accuracy: 0.6208 - val_loss: 0.7965 - val_accuracy: 0.7588\n",
            "Epoch 3/10\n",
            "313/313 [==============================] - 9s 30ms/step - loss: 0.7547 - accuracy: 0.7590 - val_loss: 1.1484 - val_accuracy: 0.5990\n",
            "Epoch 4/10\n",
            "313/313 [==============================] - 9s 30ms/step - loss: 0.5990 - accuracy: 0.8152 - val_loss: 0.5606 - val_accuracy: 0.8291\n",
            "Epoch 5/10\n",
            "313/313 [==============================] - 9s 30ms/step - loss: 0.9470 - accuracy: 0.6883 - val_loss: 0.7560 - val_accuracy: 0.7460\n",
            "Epoch 6/10\n",
            "313/313 [==============================] - 9s 30ms/step - loss: 0.7852 - accuracy: 0.7369 - val_loss: 0.9545 - val_accuracy: 0.6342\n",
            "Epoch 7/10\n",
            "313/313 [==============================] - 10s 30ms/step - loss: 0.7199 - accuracy: 0.7479 - val_loss: 0.6093 - val_accuracy: 0.8107\n",
            "Epoch 8/10\n",
            "313/313 [==============================] - 9s 30ms/step - loss: 0.5164 - accuracy: 0.8330 - val_loss: 0.4654 - val_accuracy: 0.8490\n",
            "Epoch 9/10\n",
            "313/313 [==============================] - 9s 30ms/step - loss: 0.4063 - accuracy: 0.8701 - val_loss: 0.4144 - val_accuracy: 0.8706\n",
            "Epoch 10/10\n",
            "313/313 [==============================] - 9s 30ms/step - loss: 0.3400 - accuracy: 0.8885 - val_loss: 0.3541 - val_accuracy: 0.8922\n"
          ]
        },
        {
          "data": {
            "text/plain": [
              "<keras.callbacks.History at 0x7f67ea474dd0>"
            ]
          },
          "execution_count": 22,
          "metadata": {},
          "output_type": "execute_result"
        }
      ],
      "source": [
        "model.compile(optimizer='adam', loss='categorical_crossentropy',metrics=['accuracy'])\n",
        "model.fit(X_train_embedding, y_train_onehot, batch_size=16, epochs=10, validation_data=(X_val_embedding, y_val_onehot))"
      ]
    },
    {
      "cell_type": "markdown",
      "metadata": {
        "id": "FGEJ-FtZl3nN"
      },
      "source": [
        "### Evaluate on the test sentences\n",
        "Now run your model to predict on the test sentences, you need to do the preprocessing on these sentences first and save your prediction to a list of labels, e.g [0, 2, 1, 5, ....]"
      ]
    },
    {
      "cell_type": "code",
      "execution_count": 23,
      "metadata": {
        "id": "j8g9CBNAl8Eo"
      },
      "outputs": [],
      "source": [
        "test_prediction = []\n",
        "#TODO\n",
        "test_embedding = embedding(test_token, max_len, vectors, D)\n",
        "test_prediction = np.argmax(model.predict(test_embedding), axis=1)"
      ]
    },
    {
      "cell_type": "markdown",
      "metadata": {
        "id": "Y9dazGvsOzs7"
      },
      "source": [
        "# Part 3: BERT"
      ]
    },
    {
      "cell_type": "markdown",
      "metadata": {
        "id": "vQZlpz9xMqFo"
      },
      "source": [
        "In this part, you will use the BERT pipeline to further improve the performance.\n",
        "\n",
        "This part is open-ended, we just provide one example of using BERT, feel free to find other tutorial online to customize on this task.\n",
        "\n",
        "Here is the list of all existing models."
      ]
    },
    {
      "cell_type": "code",
      "execution_count": 26,
      "metadata": {
        "colab": {
          "base_uri": "https://localhost:8080/",
          "height": 266,
          "referenced_widgets": [
            "350c492becc24b588bfe6456170d0d54",
            "e9f10312263540169d0d5a6f2df0a7ec",
            "729e1b21e9ce41cd9b7d88e57d809b84",
            "f08431456a3047419d535591f1c94eea",
            "9a168cefea6d466f900a2f4fe6aba7bc",
            "baea1cf105094aceb7e9c8fba42fbc06",
            "0a377da258a84b6e92fc7740303301b6",
            "5e551322504949d4ac47c8836747666c",
            "2bddb2c9d0ed4a948996aa194f34b956",
            "ed46645da7c7465291374738e60eab61",
            "fe3cb470cee14aa4976f83eea72a2287",
            "1e4ede98d0b94fceadb40b0d81c99e06",
            "cfcade4445bd4bbf83341c43090764a7",
            "fca36d64c1b44f22a02e448fff9327e8",
            "3d0f7d0f9b084295bd752e6913a07df0",
            "2b4a8f043e8241dfafbfd67ef39fa5cc",
            "2e671d41542542f3bb5eaf6b20d73e71",
            "5ad37b63abe64accbe439eee28de190f",
            "b2f494c020de4a139205a920f581a937",
            "f20b0b2a8448423084e1136aa51895a6",
            "1aa9830f933d44e0bbfe832b8d484c17",
            "07b0ca1de02047e1a971122c8527dc97",
            "4bfc150d46874acbb9563bc04dfae701",
            "fc73570dbf414f6f96366a27cd4c6572",
            "a0917a87ec2644f582ef17965537b604",
            "4bb31869f0dd49629401a55de5361d54",
            "e5677325e84246e6a12c928935237e03",
            "cb7841935d4446efb3b6ed45cf00b92e",
            "0e69c8fe62d84fc38f126b169768eef4",
            "84b4a35ad5b74758be53ca0b267c503b",
            "509c711029bf47ba98b956616daabeef",
            "fc3ca7a2cccb4ccdbe56971850d8030d",
            "2d639b1849164f2eacc44303b6f380b1",
            "0a2540eb9bbd41f2a4e6d2d0f2c5fa3f",
            "682bc41d414a400483b1ec1767281d97",
            "288c5e32ccb649768bf9a958626444fe",
            "484dd48615604caf8e51670f5078b097",
            "2d2cdb248ae44776af7fdf64c11881e6",
            "49b2e6387ff34ae89a7eb33c5af06c0f",
            "4a4f6b5df75e438191fc3edeaaf6c33c",
            "42a595433a03453bb35f32c9cff28bbd",
            "fad487ef4c7d474d9b11fbcd8a251b7a",
            "b8523aa605ee4d64b074bc5f9b8a4de0",
            "8879a64db74e4b72974571ffcea4add5",
            "6976ca438b0a4a0eaa92eeafc812b5cb",
            "a775963ac21f461588b7e3881c1cfa11",
            "c4205f0c70624565a124d97da173b76d",
            "573ea9326fd549adac17c4ff02dcfb26",
            "4921bab0152c4413bc5aa26a20050841",
            "19b57f29f8c642dd9b557bccc12a0033",
            "ba6028f6c0534a02bf16292d1599cea3",
            "b086cf1425f1455b9c9df5926c9fc04d",
            "b0dfc22008f146168d3aa968e80ccba0",
            "4f7e7e4fec4c494ba9362cf7f1aedf6a",
            "55b38d80100a4f19aacda8b448aeb8b4"
          ]
        },
        "id": "gt7_h3tkOili",
        "outputId": "82b48ed3-2e59-4d84-dd7e-a74be4cc2df1"
      },
      "outputs": [
        {
          "data": {
            "application/vnd.jupyter.widget-view+json": {
              "model_id": "350c492becc24b588bfe6456170d0d54",
              "version_major": 2,
              "version_minor": 0
            },
            "text/plain": [
              "Downloading:   0%|          | 0.00/226k [00:00<?, ?B/s]"
            ]
          },
          "metadata": {},
          "output_type": "display_data"
        },
        {
          "data": {
            "application/vnd.jupyter.widget-view+json": {
              "model_id": "1e4ede98d0b94fceadb40b0d81c99e06",
              "version_major": 2,
              "version_minor": 0
            },
            "text/plain": [
              "Downloading:   0%|          | 0.00/28.0 [00:00<?, ?B/s]"
            ]
          },
          "metadata": {},
          "output_type": "display_data"
        },
        {
          "data": {
            "application/vnd.jupyter.widget-view+json": {
              "model_id": "4bfc150d46874acbb9563bc04dfae701",
              "version_major": 2,
              "version_minor": 0
            },
            "text/plain": [
              "Downloading:   0%|          | 0.00/455k [00:00<?, ?B/s]"
            ]
          },
          "metadata": {},
          "output_type": "display_data"
        },
        {
          "data": {
            "application/vnd.jupyter.widget-view+json": {
              "model_id": "0a2540eb9bbd41f2a4e6d2d0f2c5fa3f",
              "version_major": 2,
              "version_minor": 0
            },
            "text/plain": [
              "Downloading:   0%|          | 0.00/570 [00:00<?, ?B/s]"
            ]
          },
          "metadata": {},
          "output_type": "display_data"
        },
        {
          "data": {
            "application/vnd.jupyter.widget-view+json": {
              "model_id": "6976ca438b0a4a0eaa92eeafc812b5cb",
              "version_major": 2,
              "version_minor": 0
            },
            "text/plain": [
              "Downloading:   0%|          | 0.00/511M [00:00<?, ?B/s]"
            ]
          },
          "metadata": {},
          "output_type": "display_data"
        },
        {
          "name": "stderr",
          "output_type": "stream",
          "text": [
            "All model checkpoint layers were used when initializing TFBertForSequenceClassification.\n",
            "\n",
            "Some layers of TFBertForSequenceClassification were not initialized from the model checkpoint at bert-base-uncased and are newly initialized: ['classifier']\n",
            "You should probably TRAIN this model on a down-stream task to be able to use it for predictions and inference.\n"
          ]
        }
      ],
      "source": [
        "#from transformers import *\n",
        "from transformers import BertTokenizer, TFBertModel, BertConfig, TFBertForSequenceClassification\n",
        "bert_tokenizer = BertTokenizer.from_pretrained(\"bert-base-uncased\") #feel free to change the model\n",
        "bert_model = TFBertForSequenceClassification.from_pretrained('bert-base-uncased',num_labels=9)"
      ]
    },
    {
      "cell_type": "markdown",
      "metadata": {
        "id": "59drUhQZO7ep"
      },
      "source": [
        "### Use BERT Tokenizer to preprocess the data\n",
        "The BERT Tokenizer will return a dictionary which contains 'input_ids', 'token_type_ids' and 'attention_mask', we will use the 'input_ids' and 'attention_mask' later"
      ]
    },
    {
      "cell_type": "code",
      "execution_count": 27,
      "metadata": {
        "colab": {
          "base_uri": "https://localhost:8080/"
        },
        "id": "9HJrt4odOx-8",
        "outputId": "7f4569ed-3d33-46f8-e753-b35ab80b4215"
      },
      "outputs": [
        {
          "name": "stderr",
          "output_type": "stream",
          "text": [
            "Truncation was not explicitly activated but `max_length` is provided a specific value, please use `truncation=True` to explicitly truncate examples to max length. Defaulting to 'longest_first' truncation strategy. If you encode pairs of sequences (GLUE-style) with the tokenizer you can select this strategy more precisely by providing a specific strategy to `truncation`.\n"
          ]
        },
        {
          "name": "stdout",
          "output_type": "stream",
          "text": [
            "{'input_ids': [101, 7592, 1012, 2071, 2017, 2377, 2033, 2070, 2189, 2011, 4202, 9170, 1029, 102, 0, 0, 0, 0, 0, 0, 0, 0, 0, 0, 0, 0, 0, 0, 0, 0], 'token_type_ids': [0, 0, 0, 0, 0, 0, 0, 0, 0, 0, 0, 0, 0, 0, 0, 0, 0, 0, 0, 0, 0, 0, 0, 0, 0, 0, 0, 0, 0, 0], 'attention_mask': [1, 1, 1, 1, 1, 1, 1, 1, 1, 1, 1, 1, 1, 1, 0, 0, 0, 0, 0, 0, 0, 0, 0, 0, 0, 0, 0, 0, 0, 0]}\n",
            "[CLS] hello. could you play me some music by taylor swift? [SEP] [PAD] [PAD] [PAD] [PAD] [PAD] [PAD] [PAD] [PAD] [PAD] [PAD] [PAD] [PAD] [PAD] [PAD] [PAD] [PAD]\n"
          ]
        },
        {
          "name": "stderr",
          "output_type": "stream",
          "text": [
            "/usr/local/lib/python3.7/dist-packages/transformers/tokenization_utils_base.py:2218: FutureWarning: The `pad_to_max_length` argument is deprecated and will be removed in a future version, use `padding=True` or `padding='longest'` to pad to the longest sequence in the batch, or use `padding='max_length'` to pad to a max length. In this case, you can give a specific length with `max_length` (e.g. `max_length=45`) or leave max_length to None to pad to the maximal input size of the model (e.g. 512 for Bert).\n",
            "  FutureWarning,\n"
          ]
        }
      ],
      "source": [
        "# Test the tokenizer\n",
        "sent = X_train[0]\n",
        "tokenized_sequence= bert_tokenizer.encode_plus(sent,add_special_tokens = True,\n",
        "                                              max_length =30,pad_to_max_length = True, \n",
        "                                              return_attention_mask = True)\n",
        "print(tokenized_sequence)\n",
        "print(bert_tokenizer.decode(tokenized_sequence['input_ids']))"
      ]
    },
    {
      "cell_type": "markdown",
      "metadata": {
        "id": "1Y1cnxanRD1d"
      },
      "source": [
        "Use the bert tokenizer described above, encode the training and validations sentences, note that the max length should be 64."
      ]
    },
    {
      "cell_type": "code",
      "execution_count": 28,
      "metadata": {
        "id": "bpBf_0Z_P4oz"
      },
      "outputs": [],
      "source": [
        "def BERT_Tokenizer(sentences):\n",
        "  '''Input: list of sentences\n",
        "     Output: two numpy array\n",
        "  '''\n",
        "  text_dict = bert_tokenizer.batch_encode_plus(sentences,\n",
        "                                              max_length=64,\n",
        "                                              padding=\"max_length\",\n",
        "                                              truncation=True,\n",
        "                                              add_special_tokens=True,\n",
        "                                              return_tensors=\"pt\")\n",
        "  return np.array(text_dict[\"input_ids\"]), np.array(text_dict[\"attention_mask\"])\n",
        "\n",
        "X_train_ids, X_train_masks = BERT_Tokenizer(X_train)\n",
        "X_val_ids, X_val_masks = BERT_Tokenizer(X_val)\n",
        "y_train_array = np.array(y_train)\n",
        "y_val_array = np.array(y_val)\n",
        "assert X_train_ids.shape[-1] == 64"
      ]
    },
    {
      "cell_type": "code",
      "execution_count": 29,
      "metadata": {
        "id": "MypXAdRKR0Cp"
      },
      "outputs": [],
      "source": [
        "loss = tf.keras.losses.SparseCategoricalCrossentropy(from_logits=True)\n",
        "metric = tf.keras.metrics.SparseCategoricalAccuracy('accuracy')\n",
        "optimizer = tf.keras.optimizers.Adam(learning_rate=1e-6,epsilon=1e-08)\n",
        "bert_model.compile(loss=loss,optimizer=optimizer,metrics=[metric])"
      ]
    },
    {
      "cell_type": "code",
      "execution_count": 36,
      "metadata": {
        "colab": {
          "base_uri": "https://localhost:8080/"
        },
        "id": "GXA2UDc3SaAH",
        "outputId": "0a030a60-9c35-4c29-d27c-2a0fef7cf01a"
      },
      "outputs": [
        {
          "name": "stdout",
          "output_type": "stream",
          "text": [
            "Epoch 1/5\n",
            "313/313 [==============================] - 151s 483ms/step - loss: 0.9143 - accuracy: 0.8769 - val_loss: 0.7486 - val_accuracy: 0.8930\n",
            "Epoch 2/5\n",
            "313/313 [==============================] - 150s 480ms/step - loss: 0.7494 - accuracy: 0.9041 - val_loss: 0.6087 - val_accuracy: 0.9042\n",
            "Epoch 3/5\n",
            "313/313 [==============================] - 151s 481ms/step - loss: 0.6172 - accuracy: 0.9147 - val_loss: 0.4982 - val_accuracy: 0.9145\n",
            "Epoch 4/5\n",
            "313/313 [==============================] - 151s 482ms/step - loss: 0.5073 - accuracy: 0.9293 - val_loss: 0.4153 - val_accuracy: 0.9225\n",
            "Epoch 5/5\n",
            "313/313 [==============================] - 150s 481ms/step - loss: 0.4219 - accuracy: 0.9371 - val_loss: 0.3530 - val_accuracy: 0.9313\n"
          ]
        },
        {
          "data": {
            "text/plain": [
              "<keras.callbacks.History at 0x7f6a2cacd290>"
            ]
          },
          "execution_count": 36,
          "metadata": {},
          "output_type": "execute_result"
        }
      ],
      "source": [
        "bert_model.fit([X_train_ids,X_train_masks],y_train_array,batch_size=16,epochs=5,validation_data=([X_val_ids,X_val_masks],y_val_array))"
      ]
    },
    {
      "cell_type": "markdown",
      "metadata": {
        "id": "gjpWa8cyTXfV"
      },
      "source": [
        "### Evaluate on test sentences\n",
        "Again, use BERT to predict on the test sentences."
      ]
    },
    {
      "cell_type": "code",
      "execution_count": 37,
      "metadata": {
        "id": "PkNQDrOYTkf1"
      },
      "outputs": [],
      "source": [
        "test_prediction = []\n",
        "#TODO\n",
        "test_ids, test_masks = BERT_Tokenizer(test_sentences)\n",
        "test_prediction = np.argmax(bert_model.predict((test_ids, test_masks))[0], axis=1)"
      ]
    }
  ],
  "metadata": {
    "accelerator": "GPU",
    "colab": {
      "collapsed_sections": [],
      "name": "r2d2_ec3.ipynb",
      "provenance": []
    },
    "kernelspec": {
      "display_name": "Python 3",
      "name": "python3"
    },
    "widgets": {
      "application/vnd.jupyter.widget-state+json": {
        "07b0ca1de02047e1a971122c8527dc97": {
          "model_module": "@jupyter-widgets/base",
          "model_module_version": "1.2.0",
          "model_name": "LayoutModel",
          "state": {
            "_model_module": "@jupyter-widgets/base",
            "_model_module_version": "1.2.0",
            "_model_name": "LayoutModel",
            "_view_count": null,
            "_view_module": "@jupyter-widgets/base",
            "_view_module_version": "1.2.0",
            "_view_name": "LayoutView",
            "align_content": null,
            "align_items": null,
            "align_self": null,
            "border": null,
            "bottom": null,
            "display": null,
            "flex": null,
            "flex_flow": null,
            "grid_area": null,
            "grid_auto_columns": null,
            "grid_auto_flow": null,
            "grid_auto_rows": null,
            "grid_column": null,
            "grid_gap": null,
            "grid_row": null,
            "grid_template_areas": null,
            "grid_template_columns": null,
            "grid_template_rows": null,
            "height": null,
            "justify_content": null,
            "justify_items": null,
            "left": null,
            "margin": null,
            "max_height": null,
            "max_width": null,
            "min_height": null,
            "min_width": null,
            "object_fit": null,
            "object_position": null,
            "order": null,
            "overflow": null,
            "overflow_x": null,
            "overflow_y": null,
            "padding": null,
            "right": null,
            "top": null,
            "visibility": null,
            "width": null
          }
        },
        "0a2540eb9bbd41f2a4e6d2d0f2c5fa3f": {
          "model_module": "@jupyter-widgets/controls",
          "model_module_version": "1.5.0",
          "model_name": "HBoxModel",
          "state": {
            "_dom_classes": [],
            "_model_module": "@jupyter-widgets/controls",
            "_model_module_version": "1.5.0",
            "_model_name": "HBoxModel",
            "_view_count": null,
            "_view_module": "@jupyter-widgets/controls",
            "_view_module_version": "1.5.0",
            "_view_name": "HBoxView",
            "box_style": "",
            "children": [
              "IPY_MODEL_288c5e32ccb649768bf9a958626444fe",
              "IPY_MODEL_484dd48615604caf8e51670f5078b097",
              "IPY_MODEL_2d2cdb248ae44776af7fdf64c11881e6"
            ],
            "layout": "IPY_MODEL_682bc41d414a400483b1ec1767281d97"
          }
        },
        "0a377da258a84b6e92fc7740303301b6": {
          "model_module": "@jupyter-widgets/base",
          "model_module_version": "1.2.0",
          "model_name": "LayoutModel",
          "state": {
            "_model_module": "@jupyter-widgets/base",
            "_model_module_version": "1.2.0",
            "_model_name": "LayoutModel",
            "_view_count": null,
            "_view_module": "@jupyter-widgets/base",
            "_view_module_version": "1.2.0",
            "_view_name": "LayoutView",
            "align_content": null,
            "align_items": null,
            "align_self": null,
            "border": null,
            "bottom": null,
            "display": null,
            "flex": null,
            "flex_flow": null,
            "grid_area": null,
            "grid_auto_columns": null,
            "grid_auto_flow": null,
            "grid_auto_rows": null,
            "grid_column": null,
            "grid_gap": null,
            "grid_row": null,
            "grid_template_areas": null,
            "grid_template_columns": null,
            "grid_template_rows": null,
            "height": null,
            "justify_content": null,
            "justify_items": null,
            "left": null,
            "margin": null,
            "max_height": null,
            "max_width": null,
            "min_height": null,
            "min_width": null,
            "object_fit": null,
            "object_position": null,
            "order": null,
            "overflow": null,
            "overflow_x": null,
            "overflow_y": null,
            "padding": null,
            "right": null,
            "top": null,
            "visibility": null,
            "width": null
          }
        },
        "0e69c8fe62d84fc38f126b169768eef4": {
          "model_module": "@jupyter-widgets/base",
          "model_module_version": "1.2.0",
          "model_name": "LayoutModel",
          "state": {
            "_model_module": "@jupyter-widgets/base",
            "_model_module_version": "1.2.0",
            "_model_name": "LayoutModel",
            "_view_count": null,
            "_view_module": "@jupyter-widgets/base",
            "_view_module_version": "1.2.0",
            "_view_name": "LayoutView",
            "align_content": null,
            "align_items": null,
            "align_self": null,
            "border": null,
            "bottom": null,
            "display": null,
            "flex": null,
            "flex_flow": null,
            "grid_area": null,
            "grid_auto_columns": null,
            "grid_auto_flow": null,
            "grid_auto_rows": null,
            "grid_column": null,
            "grid_gap": null,
            "grid_row": null,
            "grid_template_areas": null,
            "grid_template_columns": null,
            "grid_template_rows": null,
            "height": null,
            "justify_content": null,
            "justify_items": null,
            "left": null,
            "margin": null,
            "max_height": null,
            "max_width": null,
            "min_height": null,
            "min_width": null,
            "object_fit": null,
            "object_position": null,
            "order": null,
            "overflow": null,
            "overflow_x": null,
            "overflow_y": null,
            "padding": null,
            "right": null,
            "top": null,
            "visibility": null,
            "width": null
          }
        },
        "19b57f29f8c642dd9b557bccc12a0033": {
          "model_module": "@jupyter-widgets/controls",
          "model_module_version": "1.5.0",
          "model_name": "DescriptionStyleModel",
          "state": {
            "_model_module": "@jupyter-widgets/controls",
            "_model_module_version": "1.5.0",
            "_model_name": "DescriptionStyleModel",
            "_view_count": null,
            "_view_module": "@jupyter-widgets/base",
            "_view_module_version": "1.2.0",
            "_view_name": "StyleView",
            "description_width": ""
          }
        },
        "1aa9830f933d44e0bbfe832b8d484c17": {
          "model_module": "@jupyter-widgets/controls",
          "model_module_version": "1.5.0",
          "model_name": "DescriptionStyleModel",
          "state": {
            "_model_module": "@jupyter-widgets/controls",
            "_model_module_version": "1.5.0",
            "_model_name": "DescriptionStyleModel",
            "_view_count": null,
            "_view_module": "@jupyter-widgets/base",
            "_view_module_version": "1.2.0",
            "_view_name": "StyleView",
            "description_width": ""
          }
        },
        "1e4ede98d0b94fceadb40b0d81c99e06": {
          "model_module": "@jupyter-widgets/controls",
          "model_module_version": "1.5.0",
          "model_name": "HBoxModel",
          "state": {
            "_dom_classes": [],
            "_model_module": "@jupyter-widgets/controls",
            "_model_module_version": "1.5.0",
            "_model_name": "HBoxModel",
            "_view_count": null,
            "_view_module": "@jupyter-widgets/controls",
            "_view_module_version": "1.5.0",
            "_view_name": "HBoxView",
            "box_style": "",
            "children": [
              "IPY_MODEL_fca36d64c1b44f22a02e448fff9327e8",
              "IPY_MODEL_3d0f7d0f9b084295bd752e6913a07df0",
              "IPY_MODEL_2b4a8f043e8241dfafbfd67ef39fa5cc"
            ],
            "layout": "IPY_MODEL_cfcade4445bd4bbf83341c43090764a7"
          }
        },
        "288c5e32ccb649768bf9a958626444fe": {
          "model_module": "@jupyter-widgets/controls",
          "model_module_version": "1.5.0",
          "model_name": "HTMLModel",
          "state": {
            "_dom_classes": [],
            "_model_module": "@jupyter-widgets/controls",
            "_model_module_version": "1.5.0",
            "_model_name": "HTMLModel",
            "_view_count": null,
            "_view_module": "@jupyter-widgets/controls",
            "_view_module_version": "1.5.0",
            "_view_name": "HTMLView",
            "description": "",
            "description_tooltip": null,
            "layout": "IPY_MODEL_4a4f6b5df75e438191fc3edeaaf6c33c",
            "placeholder": "​",
            "style": "IPY_MODEL_49b2e6387ff34ae89a7eb33c5af06c0f",
            "value": "Downloading: 100%"
          }
        },
        "2b4a8f043e8241dfafbfd67ef39fa5cc": {
          "model_module": "@jupyter-widgets/controls",
          "model_module_version": "1.5.0",
          "model_name": "HTMLModel",
          "state": {
            "_dom_classes": [],
            "_model_module": "@jupyter-widgets/controls",
            "_model_module_version": "1.5.0",
            "_model_name": "HTMLModel",
            "_view_count": null,
            "_view_module": "@jupyter-widgets/controls",
            "_view_module_version": "1.5.0",
            "_view_name": "HTMLView",
            "description": "",
            "description_tooltip": null,
            "layout": "IPY_MODEL_07b0ca1de02047e1a971122c8527dc97",
            "placeholder": "​",
            "style": "IPY_MODEL_1aa9830f933d44e0bbfe832b8d484c17",
            "value": " 28.0/28.0 [00:00&lt;00:00, 344B/s]"
          }
        },
        "2bddb2c9d0ed4a948996aa194f34b956": {
          "model_module": "@jupyter-widgets/base",
          "model_module_version": "1.2.0",
          "model_name": "LayoutModel",
          "state": {
            "_model_module": "@jupyter-widgets/base",
            "_model_module_version": "1.2.0",
            "_model_name": "LayoutModel",
            "_view_count": null,
            "_view_module": "@jupyter-widgets/base",
            "_view_module_version": "1.2.0",
            "_view_name": "LayoutView",
            "align_content": null,
            "align_items": null,
            "align_self": null,
            "border": null,
            "bottom": null,
            "display": null,
            "flex": null,
            "flex_flow": null,
            "grid_area": null,
            "grid_auto_columns": null,
            "grid_auto_flow": null,
            "grid_auto_rows": null,
            "grid_column": null,
            "grid_gap": null,
            "grid_row": null,
            "grid_template_areas": null,
            "grid_template_columns": null,
            "grid_template_rows": null,
            "height": null,
            "justify_content": null,
            "justify_items": null,
            "left": null,
            "margin": null,
            "max_height": null,
            "max_width": null,
            "min_height": null,
            "min_width": null,
            "object_fit": null,
            "object_position": null,
            "order": null,
            "overflow": null,
            "overflow_x": null,
            "overflow_y": null,
            "padding": null,
            "right": null,
            "top": null,
            "visibility": null,
            "width": null
          }
        },
        "2d2cdb248ae44776af7fdf64c11881e6": {
          "model_module": "@jupyter-widgets/controls",
          "model_module_version": "1.5.0",
          "model_name": "HTMLModel",
          "state": {
            "_dom_classes": [],
            "_model_module": "@jupyter-widgets/controls",
            "_model_module_version": "1.5.0",
            "_model_name": "HTMLModel",
            "_view_count": null,
            "_view_module": "@jupyter-widgets/controls",
            "_view_module_version": "1.5.0",
            "_view_name": "HTMLView",
            "description": "",
            "description_tooltip": null,
            "layout": "IPY_MODEL_8879a64db74e4b72974571ffcea4add5",
            "placeholder": "​",
            "style": "IPY_MODEL_b8523aa605ee4d64b074bc5f9b8a4de0",
            "value": " 570/570 [00:00&lt;00:00, 8.23kB/s]"
          }
        },
        "2d639b1849164f2eacc44303b6f380b1": {
          "model_module": "@jupyter-widgets/base",
          "model_module_version": "1.2.0",
          "model_name": "LayoutModel",
          "state": {
            "_model_module": "@jupyter-widgets/base",
            "_model_module_version": "1.2.0",
            "_model_name": "LayoutModel",
            "_view_count": null,
            "_view_module": "@jupyter-widgets/base",
            "_view_module_version": "1.2.0",
            "_view_name": "LayoutView",
            "align_content": null,
            "align_items": null,
            "align_self": null,
            "border": null,
            "bottom": null,
            "display": null,
            "flex": null,
            "flex_flow": null,
            "grid_area": null,
            "grid_auto_columns": null,
            "grid_auto_flow": null,
            "grid_auto_rows": null,
            "grid_column": null,
            "grid_gap": null,
            "grid_row": null,
            "grid_template_areas": null,
            "grid_template_columns": null,
            "grid_template_rows": null,
            "height": null,
            "justify_content": null,
            "justify_items": null,
            "left": null,
            "margin": null,
            "max_height": null,
            "max_width": null,
            "min_height": null,
            "min_width": null,
            "object_fit": null,
            "object_position": null,
            "order": null,
            "overflow": null,
            "overflow_x": null,
            "overflow_y": null,
            "padding": null,
            "right": null,
            "top": null,
            "visibility": null,
            "width": null
          }
        },
        "2e671d41542542f3bb5eaf6b20d73e71": {
          "model_module": "@jupyter-widgets/controls",
          "model_module_version": "1.5.0",
          "model_name": "DescriptionStyleModel",
          "state": {
            "_model_module": "@jupyter-widgets/controls",
            "_model_module_version": "1.5.0",
            "_model_name": "DescriptionStyleModel",
            "_view_count": null,
            "_view_module": "@jupyter-widgets/base",
            "_view_module_version": "1.2.0",
            "_view_name": "StyleView",
            "description_width": ""
          }
        },
        "350c492becc24b588bfe6456170d0d54": {
          "model_module": "@jupyter-widgets/controls",
          "model_module_version": "1.5.0",
          "model_name": "HBoxModel",
          "state": {
            "_dom_classes": [],
            "_model_module": "@jupyter-widgets/controls",
            "_model_module_version": "1.5.0",
            "_model_name": "HBoxModel",
            "_view_count": null,
            "_view_module": "@jupyter-widgets/controls",
            "_view_module_version": "1.5.0",
            "_view_name": "HBoxView",
            "box_style": "",
            "children": [
              "IPY_MODEL_729e1b21e9ce41cd9b7d88e57d809b84",
              "IPY_MODEL_f08431456a3047419d535591f1c94eea",
              "IPY_MODEL_9a168cefea6d466f900a2f4fe6aba7bc"
            ],
            "layout": "IPY_MODEL_e9f10312263540169d0d5a6f2df0a7ec"
          }
        },
        "3d0f7d0f9b084295bd752e6913a07df0": {
          "model_module": "@jupyter-widgets/controls",
          "model_module_version": "1.5.0",
          "model_name": "FloatProgressModel",
          "state": {
            "_dom_classes": [],
            "_model_module": "@jupyter-widgets/controls",
            "_model_module_version": "1.5.0",
            "_model_name": "FloatProgressModel",
            "_view_count": null,
            "_view_module": "@jupyter-widgets/controls",
            "_view_module_version": "1.5.0",
            "_view_name": "ProgressView",
            "bar_style": "success",
            "description": "",
            "description_tooltip": null,
            "layout": "IPY_MODEL_f20b0b2a8448423084e1136aa51895a6",
            "max": 28,
            "min": 0,
            "orientation": "horizontal",
            "style": "IPY_MODEL_b2f494c020de4a139205a920f581a937",
            "value": 28
          }
        },
        "42a595433a03453bb35f32c9cff28bbd": {
          "model_module": "@jupyter-widgets/controls",
          "model_module_version": "1.5.0",
          "model_name": "ProgressStyleModel",
          "state": {
            "_model_module": "@jupyter-widgets/controls",
            "_model_module_version": "1.5.0",
            "_model_name": "ProgressStyleModel",
            "_view_count": null,
            "_view_module": "@jupyter-widgets/base",
            "_view_module_version": "1.2.0",
            "_view_name": "StyleView",
            "bar_color": null,
            "description_width": ""
          }
        },
        "484dd48615604caf8e51670f5078b097": {
          "model_module": "@jupyter-widgets/controls",
          "model_module_version": "1.5.0",
          "model_name": "FloatProgressModel",
          "state": {
            "_dom_classes": [],
            "_model_module": "@jupyter-widgets/controls",
            "_model_module_version": "1.5.0",
            "_model_name": "FloatProgressModel",
            "_view_count": null,
            "_view_module": "@jupyter-widgets/controls",
            "_view_module_version": "1.5.0",
            "_view_name": "ProgressView",
            "bar_style": "success",
            "description": "",
            "description_tooltip": null,
            "layout": "IPY_MODEL_fad487ef4c7d474d9b11fbcd8a251b7a",
            "max": 570,
            "min": 0,
            "orientation": "horizontal",
            "style": "IPY_MODEL_42a595433a03453bb35f32c9cff28bbd",
            "value": 570
          }
        },
        "4921bab0152c4413bc5aa26a20050841": {
          "model_module": "@jupyter-widgets/controls",
          "model_module_version": "1.5.0",
          "model_name": "HTMLModel",
          "state": {
            "_dom_classes": [],
            "_model_module": "@jupyter-widgets/controls",
            "_model_module_version": "1.5.0",
            "_model_name": "HTMLModel",
            "_view_count": null,
            "_view_module": "@jupyter-widgets/controls",
            "_view_module_version": "1.5.0",
            "_view_name": "HTMLView",
            "description": "",
            "description_tooltip": null,
            "layout": "IPY_MODEL_55b38d80100a4f19aacda8b448aeb8b4",
            "placeholder": "​",
            "style": "IPY_MODEL_4f7e7e4fec4c494ba9362cf7f1aedf6a",
            "value": " 511M/511M [00:34&lt;00:00, 17.5MB/s]"
          }
        },
        "49b2e6387ff34ae89a7eb33c5af06c0f": {
          "model_module": "@jupyter-widgets/controls",
          "model_module_version": "1.5.0",
          "model_name": "DescriptionStyleModel",
          "state": {
            "_model_module": "@jupyter-widgets/controls",
            "_model_module_version": "1.5.0",
            "_model_name": "DescriptionStyleModel",
            "_view_count": null,
            "_view_module": "@jupyter-widgets/base",
            "_view_module_version": "1.2.0",
            "_view_name": "StyleView",
            "description_width": ""
          }
        },
        "4a4f6b5df75e438191fc3edeaaf6c33c": {
          "model_module": "@jupyter-widgets/base",
          "model_module_version": "1.2.0",
          "model_name": "LayoutModel",
          "state": {
            "_model_module": "@jupyter-widgets/base",
            "_model_module_version": "1.2.0",
            "_model_name": "LayoutModel",
            "_view_count": null,
            "_view_module": "@jupyter-widgets/base",
            "_view_module_version": "1.2.0",
            "_view_name": "LayoutView",
            "align_content": null,
            "align_items": null,
            "align_self": null,
            "border": null,
            "bottom": null,
            "display": null,
            "flex": null,
            "flex_flow": null,
            "grid_area": null,
            "grid_auto_columns": null,
            "grid_auto_flow": null,
            "grid_auto_rows": null,
            "grid_column": null,
            "grid_gap": null,
            "grid_row": null,
            "grid_template_areas": null,
            "grid_template_columns": null,
            "grid_template_rows": null,
            "height": null,
            "justify_content": null,
            "justify_items": null,
            "left": null,
            "margin": null,
            "max_height": null,
            "max_width": null,
            "min_height": null,
            "min_width": null,
            "object_fit": null,
            "object_position": null,
            "order": null,
            "overflow": null,
            "overflow_x": null,
            "overflow_y": null,
            "padding": null,
            "right": null,
            "top": null,
            "visibility": null,
            "width": null
          }
        },
        "4bb31869f0dd49629401a55de5361d54": {
          "model_module": "@jupyter-widgets/controls",
          "model_module_version": "1.5.0",
          "model_name": "FloatProgressModel",
          "state": {
            "_dom_classes": [],
            "_model_module": "@jupyter-widgets/controls",
            "_model_module_version": "1.5.0",
            "_model_name": "FloatProgressModel",
            "_view_count": null,
            "_view_module": "@jupyter-widgets/controls",
            "_view_module_version": "1.5.0",
            "_view_name": "ProgressView",
            "bar_style": "success",
            "description": "",
            "description_tooltip": null,
            "layout": "IPY_MODEL_509c711029bf47ba98b956616daabeef",
            "max": 466062,
            "min": 0,
            "orientation": "horizontal",
            "style": "IPY_MODEL_84b4a35ad5b74758be53ca0b267c503b",
            "value": 466062
          }
        },
        "4bfc150d46874acbb9563bc04dfae701": {
          "model_module": "@jupyter-widgets/controls",
          "model_module_version": "1.5.0",
          "model_name": "HBoxModel",
          "state": {
            "_dom_classes": [],
            "_model_module": "@jupyter-widgets/controls",
            "_model_module_version": "1.5.0",
            "_model_name": "HBoxModel",
            "_view_count": null,
            "_view_module": "@jupyter-widgets/controls",
            "_view_module_version": "1.5.0",
            "_view_name": "HBoxView",
            "box_style": "",
            "children": [
              "IPY_MODEL_a0917a87ec2644f582ef17965537b604",
              "IPY_MODEL_4bb31869f0dd49629401a55de5361d54",
              "IPY_MODEL_e5677325e84246e6a12c928935237e03"
            ],
            "layout": "IPY_MODEL_fc73570dbf414f6f96366a27cd4c6572"
          }
        },
        "4f7e7e4fec4c494ba9362cf7f1aedf6a": {
          "model_module": "@jupyter-widgets/controls",
          "model_module_version": "1.5.0",
          "model_name": "DescriptionStyleModel",
          "state": {
            "_model_module": "@jupyter-widgets/controls",
            "_model_module_version": "1.5.0",
            "_model_name": "DescriptionStyleModel",
            "_view_count": null,
            "_view_module": "@jupyter-widgets/base",
            "_view_module_version": "1.2.0",
            "_view_name": "StyleView",
            "description_width": ""
          }
        },
        "509c711029bf47ba98b956616daabeef": {
          "model_module": "@jupyter-widgets/base",
          "model_module_version": "1.2.0",
          "model_name": "LayoutModel",
          "state": {
            "_model_module": "@jupyter-widgets/base",
            "_model_module_version": "1.2.0",
            "_model_name": "LayoutModel",
            "_view_count": null,
            "_view_module": "@jupyter-widgets/base",
            "_view_module_version": "1.2.0",
            "_view_name": "LayoutView",
            "align_content": null,
            "align_items": null,
            "align_self": null,
            "border": null,
            "bottom": null,
            "display": null,
            "flex": null,
            "flex_flow": null,
            "grid_area": null,
            "grid_auto_columns": null,
            "grid_auto_flow": null,
            "grid_auto_rows": null,
            "grid_column": null,
            "grid_gap": null,
            "grid_row": null,
            "grid_template_areas": null,
            "grid_template_columns": null,
            "grid_template_rows": null,
            "height": null,
            "justify_content": null,
            "justify_items": null,
            "left": null,
            "margin": null,
            "max_height": null,
            "max_width": null,
            "min_height": null,
            "min_width": null,
            "object_fit": null,
            "object_position": null,
            "order": null,
            "overflow": null,
            "overflow_x": null,
            "overflow_y": null,
            "padding": null,
            "right": null,
            "top": null,
            "visibility": null,
            "width": null
          }
        },
        "55b38d80100a4f19aacda8b448aeb8b4": {
          "model_module": "@jupyter-widgets/base",
          "model_module_version": "1.2.0",
          "model_name": "LayoutModel",
          "state": {
            "_model_module": "@jupyter-widgets/base",
            "_model_module_version": "1.2.0",
            "_model_name": "LayoutModel",
            "_view_count": null,
            "_view_module": "@jupyter-widgets/base",
            "_view_module_version": "1.2.0",
            "_view_name": "LayoutView",
            "align_content": null,
            "align_items": null,
            "align_self": null,
            "border": null,
            "bottom": null,
            "display": null,
            "flex": null,
            "flex_flow": null,
            "grid_area": null,
            "grid_auto_columns": null,
            "grid_auto_flow": null,
            "grid_auto_rows": null,
            "grid_column": null,
            "grid_gap": null,
            "grid_row": null,
            "grid_template_areas": null,
            "grid_template_columns": null,
            "grid_template_rows": null,
            "height": null,
            "justify_content": null,
            "justify_items": null,
            "left": null,
            "margin": null,
            "max_height": null,
            "max_width": null,
            "min_height": null,
            "min_width": null,
            "object_fit": null,
            "object_position": null,
            "order": null,
            "overflow": null,
            "overflow_x": null,
            "overflow_y": null,
            "padding": null,
            "right": null,
            "top": null,
            "visibility": null,
            "width": null
          }
        },
        "573ea9326fd549adac17c4ff02dcfb26": {
          "model_module": "@jupyter-widgets/controls",
          "model_module_version": "1.5.0",
          "model_name": "FloatProgressModel",
          "state": {
            "_dom_classes": [],
            "_model_module": "@jupyter-widgets/controls",
            "_model_module_version": "1.5.0",
            "_model_name": "FloatProgressModel",
            "_view_count": null,
            "_view_module": "@jupyter-widgets/controls",
            "_view_module_version": "1.5.0",
            "_view_name": "ProgressView",
            "bar_style": "success",
            "description": "",
            "description_tooltip": null,
            "layout": "IPY_MODEL_b0dfc22008f146168d3aa968e80ccba0",
            "max": 536063208,
            "min": 0,
            "orientation": "horizontal",
            "style": "IPY_MODEL_b086cf1425f1455b9c9df5926c9fc04d",
            "value": 536063208
          }
        },
        "5ad37b63abe64accbe439eee28de190f": {
          "model_module": "@jupyter-widgets/base",
          "model_module_version": "1.2.0",
          "model_name": "LayoutModel",
          "state": {
            "_model_module": "@jupyter-widgets/base",
            "_model_module_version": "1.2.0",
            "_model_name": "LayoutModel",
            "_view_count": null,
            "_view_module": "@jupyter-widgets/base",
            "_view_module_version": "1.2.0",
            "_view_name": "LayoutView",
            "align_content": null,
            "align_items": null,
            "align_self": null,
            "border": null,
            "bottom": null,
            "display": null,
            "flex": null,
            "flex_flow": null,
            "grid_area": null,
            "grid_auto_columns": null,
            "grid_auto_flow": null,
            "grid_auto_rows": null,
            "grid_column": null,
            "grid_gap": null,
            "grid_row": null,
            "grid_template_areas": null,
            "grid_template_columns": null,
            "grid_template_rows": null,
            "height": null,
            "justify_content": null,
            "justify_items": null,
            "left": null,
            "margin": null,
            "max_height": null,
            "max_width": null,
            "min_height": null,
            "min_width": null,
            "object_fit": null,
            "object_position": null,
            "order": null,
            "overflow": null,
            "overflow_x": null,
            "overflow_y": null,
            "padding": null,
            "right": null,
            "top": null,
            "visibility": null,
            "width": null
          }
        },
        "5e551322504949d4ac47c8836747666c": {
          "model_module": "@jupyter-widgets/controls",
          "model_module_version": "1.5.0",
          "model_name": "ProgressStyleModel",
          "state": {
            "_model_module": "@jupyter-widgets/controls",
            "_model_module_version": "1.5.0",
            "_model_name": "ProgressStyleModel",
            "_view_count": null,
            "_view_module": "@jupyter-widgets/base",
            "_view_module_version": "1.2.0",
            "_view_name": "StyleView",
            "bar_color": null,
            "description_width": ""
          }
        },
        "682bc41d414a400483b1ec1767281d97": {
          "model_module": "@jupyter-widgets/base",
          "model_module_version": "1.2.0",
          "model_name": "LayoutModel",
          "state": {
            "_model_module": "@jupyter-widgets/base",
            "_model_module_version": "1.2.0",
            "_model_name": "LayoutModel",
            "_view_count": null,
            "_view_module": "@jupyter-widgets/base",
            "_view_module_version": "1.2.0",
            "_view_name": "LayoutView",
            "align_content": null,
            "align_items": null,
            "align_self": null,
            "border": null,
            "bottom": null,
            "display": null,
            "flex": null,
            "flex_flow": null,
            "grid_area": null,
            "grid_auto_columns": null,
            "grid_auto_flow": null,
            "grid_auto_rows": null,
            "grid_column": null,
            "grid_gap": null,
            "grid_row": null,
            "grid_template_areas": null,
            "grid_template_columns": null,
            "grid_template_rows": null,
            "height": null,
            "justify_content": null,
            "justify_items": null,
            "left": null,
            "margin": null,
            "max_height": null,
            "max_width": null,
            "min_height": null,
            "min_width": null,
            "object_fit": null,
            "object_position": null,
            "order": null,
            "overflow": null,
            "overflow_x": null,
            "overflow_y": null,
            "padding": null,
            "right": null,
            "top": null,
            "visibility": null,
            "width": null
          }
        },
        "6976ca438b0a4a0eaa92eeafc812b5cb": {
          "model_module": "@jupyter-widgets/controls",
          "model_module_version": "1.5.0",
          "model_name": "HBoxModel",
          "state": {
            "_dom_classes": [],
            "_model_module": "@jupyter-widgets/controls",
            "_model_module_version": "1.5.0",
            "_model_name": "HBoxModel",
            "_view_count": null,
            "_view_module": "@jupyter-widgets/controls",
            "_view_module_version": "1.5.0",
            "_view_name": "HBoxView",
            "box_style": "",
            "children": [
              "IPY_MODEL_c4205f0c70624565a124d97da173b76d",
              "IPY_MODEL_573ea9326fd549adac17c4ff02dcfb26",
              "IPY_MODEL_4921bab0152c4413bc5aa26a20050841"
            ],
            "layout": "IPY_MODEL_a775963ac21f461588b7e3881c1cfa11"
          }
        },
        "729e1b21e9ce41cd9b7d88e57d809b84": {
          "model_module": "@jupyter-widgets/controls",
          "model_module_version": "1.5.0",
          "model_name": "HTMLModel",
          "state": {
            "_dom_classes": [],
            "_model_module": "@jupyter-widgets/controls",
            "_model_module_version": "1.5.0",
            "_model_name": "HTMLModel",
            "_view_count": null,
            "_view_module": "@jupyter-widgets/controls",
            "_view_module_version": "1.5.0",
            "_view_name": "HTMLView",
            "description": "",
            "description_tooltip": null,
            "layout": "IPY_MODEL_0a377da258a84b6e92fc7740303301b6",
            "placeholder": "​",
            "style": "IPY_MODEL_baea1cf105094aceb7e9c8fba42fbc06",
            "value": "Downloading: 100%"
          }
        },
        "84b4a35ad5b74758be53ca0b267c503b": {
          "model_module": "@jupyter-widgets/controls",
          "model_module_version": "1.5.0",
          "model_name": "ProgressStyleModel",
          "state": {
            "_model_module": "@jupyter-widgets/controls",
            "_model_module_version": "1.5.0",
            "_model_name": "ProgressStyleModel",
            "_view_count": null,
            "_view_module": "@jupyter-widgets/base",
            "_view_module_version": "1.2.0",
            "_view_name": "StyleView",
            "bar_color": null,
            "description_width": ""
          }
        },
        "8879a64db74e4b72974571ffcea4add5": {
          "model_module": "@jupyter-widgets/base",
          "model_module_version": "1.2.0",
          "model_name": "LayoutModel",
          "state": {
            "_model_module": "@jupyter-widgets/base",
            "_model_module_version": "1.2.0",
            "_model_name": "LayoutModel",
            "_view_count": null,
            "_view_module": "@jupyter-widgets/base",
            "_view_module_version": "1.2.0",
            "_view_name": "LayoutView",
            "align_content": null,
            "align_items": null,
            "align_self": null,
            "border": null,
            "bottom": null,
            "display": null,
            "flex": null,
            "flex_flow": null,
            "grid_area": null,
            "grid_auto_columns": null,
            "grid_auto_flow": null,
            "grid_auto_rows": null,
            "grid_column": null,
            "grid_gap": null,
            "grid_row": null,
            "grid_template_areas": null,
            "grid_template_columns": null,
            "grid_template_rows": null,
            "height": null,
            "justify_content": null,
            "justify_items": null,
            "left": null,
            "margin": null,
            "max_height": null,
            "max_width": null,
            "min_height": null,
            "min_width": null,
            "object_fit": null,
            "object_position": null,
            "order": null,
            "overflow": null,
            "overflow_x": null,
            "overflow_y": null,
            "padding": null,
            "right": null,
            "top": null,
            "visibility": null,
            "width": null
          }
        },
        "9a168cefea6d466f900a2f4fe6aba7bc": {
          "model_module": "@jupyter-widgets/controls",
          "model_module_version": "1.5.0",
          "model_name": "HTMLModel",
          "state": {
            "_dom_classes": [],
            "_model_module": "@jupyter-widgets/controls",
            "_model_module_version": "1.5.0",
            "_model_name": "HTMLModel",
            "_view_count": null,
            "_view_module": "@jupyter-widgets/controls",
            "_view_module_version": "1.5.0",
            "_view_name": "HTMLView",
            "description": "",
            "description_tooltip": null,
            "layout": "IPY_MODEL_fe3cb470cee14aa4976f83eea72a2287",
            "placeholder": "​",
            "style": "IPY_MODEL_ed46645da7c7465291374738e60eab61",
            "value": " 226k/226k [00:00&lt;00:00, 360kB/s]"
          }
        },
        "a0917a87ec2644f582ef17965537b604": {
          "model_module": "@jupyter-widgets/controls",
          "model_module_version": "1.5.0",
          "model_name": "HTMLModel",
          "state": {
            "_dom_classes": [],
            "_model_module": "@jupyter-widgets/controls",
            "_model_module_version": "1.5.0",
            "_model_name": "HTMLModel",
            "_view_count": null,
            "_view_module": "@jupyter-widgets/controls",
            "_view_module_version": "1.5.0",
            "_view_name": "HTMLView",
            "description": "",
            "description_tooltip": null,
            "layout": "IPY_MODEL_0e69c8fe62d84fc38f126b169768eef4",
            "placeholder": "​",
            "style": "IPY_MODEL_cb7841935d4446efb3b6ed45cf00b92e",
            "value": "Downloading: 100%"
          }
        },
        "a775963ac21f461588b7e3881c1cfa11": {
          "model_module": "@jupyter-widgets/base",
          "model_module_version": "1.2.0",
          "model_name": "LayoutModel",
          "state": {
            "_model_module": "@jupyter-widgets/base",
            "_model_module_version": "1.2.0",
            "_model_name": "LayoutModel",
            "_view_count": null,
            "_view_module": "@jupyter-widgets/base",
            "_view_module_version": "1.2.0",
            "_view_name": "LayoutView",
            "align_content": null,
            "align_items": null,
            "align_self": null,
            "border": null,
            "bottom": null,
            "display": null,
            "flex": null,
            "flex_flow": null,
            "grid_area": null,
            "grid_auto_columns": null,
            "grid_auto_flow": null,
            "grid_auto_rows": null,
            "grid_column": null,
            "grid_gap": null,
            "grid_row": null,
            "grid_template_areas": null,
            "grid_template_columns": null,
            "grid_template_rows": null,
            "height": null,
            "justify_content": null,
            "justify_items": null,
            "left": null,
            "margin": null,
            "max_height": null,
            "max_width": null,
            "min_height": null,
            "min_width": null,
            "object_fit": null,
            "object_position": null,
            "order": null,
            "overflow": null,
            "overflow_x": null,
            "overflow_y": null,
            "padding": null,
            "right": null,
            "top": null,
            "visibility": null,
            "width": null
          }
        },
        "b086cf1425f1455b9c9df5926c9fc04d": {
          "model_module": "@jupyter-widgets/controls",
          "model_module_version": "1.5.0",
          "model_name": "ProgressStyleModel",
          "state": {
            "_model_module": "@jupyter-widgets/controls",
            "_model_module_version": "1.5.0",
            "_model_name": "ProgressStyleModel",
            "_view_count": null,
            "_view_module": "@jupyter-widgets/base",
            "_view_module_version": "1.2.0",
            "_view_name": "StyleView",
            "bar_color": null,
            "description_width": ""
          }
        },
        "b0dfc22008f146168d3aa968e80ccba0": {
          "model_module": "@jupyter-widgets/base",
          "model_module_version": "1.2.0",
          "model_name": "LayoutModel",
          "state": {
            "_model_module": "@jupyter-widgets/base",
            "_model_module_version": "1.2.0",
            "_model_name": "LayoutModel",
            "_view_count": null,
            "_view_module": "@jupyter-widgets/base",
            "_view_module_version": "1.2.0",
            "_view_name": "LayoutView",
            "align_content": null,
            "align_items": null,
            "align_self": null,
            "border": null,
            "bottom": null,
            "display": null,
            "flex": null,
            "flex_flow": null,
            "grid_area": null,
            "grid_auto_columns": null,
            "grid_auto_flow": null,
            "grid_auto_rows": null,
            "grid_column": null,
            "grid_gap": null,
            "grid_row": null,
            "grid_template_areas": null,
            "grid_template_columns": null,
            "grid_template_rows": null,
            "height": null,
            "justify_content": null,
            "justify_items": null,
            "left": null,
            "margin": null,
            "max_height": null,
            "max_width": null,
            "min_height": null,
            "min_width": null,
            "object_fit": null,
            "object_position": null,
            "order": null,
            "overflow": null,
            "overflow_x": null,
            "overflow_y": null,
            "padding": null,
            "right": null,
            "top": null,
            "visibility": null,
            "width": null
          }
        },
        "b2f494c020de4a139205a920f581a937": {
          "model_module": "@jupyter-widgets/controls",
          "model_module_version": "1.5.0",
          "model_name": "ProgressStyleModel",
          "state": {
            "_model_module": "@jupyter-widgets/controls",
            "_model_module_version": "1.5.0",
            "_model_name": "ProgressStyleModel",
            "_view_count": null,
            "_view_module": "@jupyter-widgets/base",
            "_view_module_version": "1.2.0",
            "_view_name": "StyleView",
            "bar_color": null,
            "description_width": ""
          }
        },
        "b8523aa605ee4d64b074bc5f9b8a4de0": {
          "model_module": "@jupyter-widgets/controls",
          "model_module_version": "1.5.0",
          "model_name": "DescriptionStyleModel",
          "state": {
            "_model_module": "@jupyter-widgets/controls",
            "_model_module_version": "1.5.0",
            "_model_name": "DescriptionStyleModel",
            "_view_count": null,
            "_view_module": "@jupyter-widgets/base",
            "_view_module_version": "1.2.0",
            "_view_name": "StyleView",
            "description_width": ""
          }
        },
        "ba6028f6c0534a02bf16292d1599cea3": {
          "model_module": "@jupyter-widgets/base",
          "model_module_version": "1.2.0",
          "model_name": "LayoutModel",
          "state": {
            "_model_module": "@jupyter-widgets/base",
            "_model_module_version": "1.2.0",
            "_model_name": "LayoutModel",
            "_view_count": null,
            "_view_module": "@jupyter-widgets/base",
            "_view_module_version": "1.2.0",
            "_view_name": "LayoutView",
            "align_content": null,
            "align_items": null,
            "align_self": null,
            "border": null,
            "bottom": null,
            "display": null,
            "flex": null,
            "flex_flow": null,
            "grid_area": null,
            "grid_auto_columns": null,
            "grid_auto_flow": null,
            "grid_auto_rows": null,
            "grid_column": null,
            "grid_gap": null,
            "grid_row": null,
            "grid_template_areas": null,
            "grid_template_columns": null,
            "grid_template_rows": null,
            "height": null,
            "justify_content": null,
            "justify_items": null,
            "left": null,
            "margin": null,
            "max_height": null,
            "max_width": null,
            "min_height": null,
            "min_width": null,
            "object_fit": null,
            "object_position": null,
            "order": null,
            "overflow": null,
            "overflow_x": null,
            "overflow_y": null,
            "padding": null,
            "right": null,
            "top": null,
            "visibility": null,
            "width": null
          }
        },
        "baea1cf105094aceb7e9c8fba42fbc06": {
          "model_module": "@jupyter-widgets/controls",
          "model_module_version": "1.5.0",
          "model_name": "DescriptionStyleModel",
          "state": {
            "_model_module": "@jupyter-widgets/controls",
            "_model_module_version": "1.5.0",
            "_model_name": "DescriptionStyleModel",
            "_view_count": null,
            "_view_module": "@jupyter-widgets/base",
            "_view_module_version": "1.2.0",
            "_view_name": "StyleView",
            "description_width": ""
          }
        },
        "c4205f0c70624565a124d97da173b76d": {
          "model_module": "@jupyter-widgets/controls",
          "model_module_version": "1.5.0",
          "model_name": "HTMLModel",
          "state": {
            "_dom_classes": [],
            "_model_module": "@jupyter-widgets/controls",
            "_model_module_version": "1.5.0",
            "_model_name": "HTMLModel",
            "_view_count": null,
            "_view_module": "@jupyter-widgets/controls",
            "_view_module_version": "1.5.0",
            "_view_name": "HTMLView",
            "description": "",
            "description_tooltip": null,
            "layout": "IPY_MODEL_ba6028f6c0534a02bf16292d1599cea3",
            "placeholder": "​",
            "style": "IPY_MODEL_19b57f29f8c642dd9b557bccc12a0033",
            "value": "Downloading: 100%"
          }
        },
        "cb7841935d4446efb3b6ed45cf00b92e": {
          "model_module": "@jupyter-widgets/controls",
          "model_module_version": "1.5.0",
          "model_name": "DescriptionStyleModel",
          "state": {
            "_model_module": "@jupyter-widgets/controls",
            "_model_module_version": "1.5.0",
            "_model_name": "DescriptionStyleModel",
            "_view_count": null,
            "_view_module": "@jupyter-widgets/base",
            "_view_module_version": "1.2.0",
            "_view_name": "StyleView",
            "description_width": ""
          }
        },
        "cfcade4445bd4bbf83341c43090764a7": {
          "model_module": "@jupyter-widgets/base",
          "model_module_version": "1.2.0",
          "model_name": "LayoutModel",
          "state": {
            "_model_module": "@jupyter-widgets/base",
            "_model_module_version": "1.2.0",
            "_model_name": "LayoutModel",
            "_view_count": null,
            "_view_module": "@jupyter-widgets/base",
            "_view_module_version": "1.2.0",
            "_view_name": "LayoutView",
            "align_content": null,
            "align_items": null,
            "align_self": null,
            "border": null,
            "bottom": null,
            "display": null,
            "flex": null,
            "flex_flow": null,
            "grid_area": null,
            "grid_auto_columns": null,
            "grid_auto_flow": null,
            "grid_auto_rows": null,
            "grid_column": null,
            "grid_gap": null,
            "grid_row": null,
            "grid_template_areas": null,
            "grid_template_columns": null,
            "grid_template_rows": null,
            "height": null,
            "justify_content": null,
            "justify_items": null,
            "left": null,
            "margin": null,
            "max_height": null,
            "max_width": null,
            "min_height": null,
            "min_width": null,
            "object_fit": null,
            "object_position": null,
            "order": null,
            "overflow": null,
            "overflow_x": null,
            "overflow_y": null,
            "padding": null,
            "right": null,
            "top": null,
            "visibility": null,
            "width": null
          }
        },
        "e5677325e84246e6a12c928935237e03": {
          "model_module": "@jupyter-widgets/controls",
          "model_module_version": "1.5.0",
          "model_name": "HTMLModel",
          "state": {
            "_dom_classes": [],
            "_model_module": "@jupyter-widgets/controls",
            "_model_module_version": "1.5.0",
            "_model_name": "HTMLModel",
            "_view_count": null,
            "_view_module": "@jupyter-widgets/controls",
            "_view_module_version": "1.5.0",
            "_view_name": "HTMLView",
            "description": "",
            "description_tooltip": null,
            "layout": "IPY_MODEL_2d639b1849164f2eacc44303b6f380b1",
            "placeholder": "​",
            "style": "IPY_MODEL_fc3ca7a2cccb4ccdbe56971850d8030d",
            "value": " 455k/455k [00:00&lt;00:00, 701kB/s]"
          }
        },
        "e9f10312263540169d0d5a6f2df0a7ec": {
          "model_module": "@jupyter-widgets/base",
          "model_module_version": "1.2.0",
          "model_name": "LayoutModel",
          "state": {
            "_model_module": "@jupyter-widgets/base",
            "_model_module_version": "1.2.0",
            "_model_name": "LayoutModel",
            "_view_count": null,
            "_view_module": "@jupyter-widgets/base",
            "_view_module_version": "1.2.0",
            "_view_name": "LayoutView",
            "align_content": null,
            "align_items": null,
            "align_self": null,
            "border": null,
            "bottom": null,
            "display": null,
            "flex": null,
            "flex_flow": null,
            "grid_area": null,
            "grid_auto_columns": null,
            "grid_auto_flow": null,
            "grid_auto_rows": null,
            "grid_column": null,
            "grid_gap": null,
            "grid_row": null,
            "grid_template_areas": null,
            "grid_template_columns": null,
            "grid_template_rows": null,
            "height": null,
            "justify_content": null,
            "justify_items": null,
            "left": null,
            "margin": null,
            "max_height": null,
            "max_width": null,
            "min_height": null,
            "min_width": null,
            "object_fit": null,
            "object_position": null,
            "order": null,
            "overflow": null,
            "overflow_x": null,
            "overflow_y": null,
            "padding": null,
            "right": null,
            "top": null,
            "visibility": null,
            "width": null
          }
        },
        "ed46645da7c7465291374738e60eab61": {
          "model_module": "@jupyter-widgets/controls",
          "model_module_version": "1.5.0",
          "model_name": "DescriptionStyleModel",
          "state": {
            "_model_module": "@jupyter-widgets/controls",
            "_model_module_version": "1.5.0",
            "_model_name": "DescriptionStyleModel",
            "_view_count": null,
            "_view_module": "@jupyter-widgets/base",
            "_view_module_version": "1.2.0",
            "_view_name": "StyleView",
            "description_width": ""
          }
        },
        "f08431456a3047419d535591f1c94eea": {
          "model_module": "@jupyter-widgets/controls",
          "model_module_version": "1.5.0",
          "model_name": "FloatProgressModel",
          "state": {
            "_dom_classes": [],
            "_model_module": "@jupyter-widgets/controls",
            "_model_module_version": "1.5.0",
            "_model_name": "FloatProgressModel",
            "_view_count": null,
            "_view_module": "@jupyter-widgets/controls",
            "_view_module_version": "1.5.0",
            "_view_name": "ProgressView",
            "bar_style": "success",
            "description": "",
            "description_tooltip": null,
            "layout": "IPY_MODEL_2bddb2c9d0ed4a948996aa194f34b956",
            "max": 231508,
            "min": 0,
            "orientation": "horizontal",
            "style": "IPY_MODEL_5e551322504949d4ac47c8836747666c",
            "value": 231508
          }
        },
        "f20b0b2a8448423084e1136aa51895a6": {
          "model_module": "@jupyter-widgets/base",
          "model_module_version": "1.2.0",
          "model_name": "LayoutModel",
          "state": {
            "_model_module": "@jupyter-widgets/base",
            "_model_module_version": "1.2.0",
            "_model_name": "LayoutModel",
            "_view_count": null,
            "_view_module": "@jupyter-widgets/base",
            "_view_module_version": "1.2.0",
            "_view_name": "LayoutView",
            "align_content": null,
            "align_items": null,
            "align_self": null,
            "border": null,
            "bottom": null,
            "display": null,
            "flex": null,
            "flex_flow": null,
            "grid_area": null,
            "grid_auto_columns": null,
            "grid_auto_flow": null,
            "grid_auto_rows": null,
            "grid_column": null,
            "grid_gap": null,
            "grid_row": null,
            "grid_template_areas": null,
            "grid_template_columns": null,
            "grid_template_rows": null,
            "height": null,
            "justify_content": null,
            "justify_items": null,
            "left": null,
            "margin": null,
            "max_height": null,
            "max_width": null,
            "min_height": null,
            "min_width": null,
            "object_fit": null,
            "object_position": null,
            "order": null,
            "overflow": null,
            "overflow_x": null,
            "overflow_y": null,
            "padding": null,
            "right": null,
            "top": null,
            "visibility": null,
            "width": null
          }
        },
        "fad487ef4c7d474d9b11fbcd8a251b7a": {
          "model_module": "@jupyter-widgets/base",
          "model_module_version": "1.2.0",
          "model_name": "LayoutModel",
          "state": {
            "_model_module": "@jupyter-widgets/base",
            "_model_module_version": "1.2.0",
            "_model_name": "LayoutModel",
            "_view_count": null,
            "_view_module": "@jupyter-widgets/base",
            "_view_module_version": "1.2.0",
            "_view_name": "LayoutView",
            "align_content": null,
            "align_items": null,
            "align_self": null,
            "border": null,
            "bottom": null,
            "display": null,
            "flex": null,
            "flex_flow": null,
            "grid_area": null,
            "grid_auto_columns": null,
            "grid_auto_flow": null,
            "grid_auto_rows": null,
            "grid_column": null,
            "grid_gap": null,
            "grid_row": null,
            "grid_template_areas": null,
            "grid_template_columns": null,
            "grid_template_rows": null,
            "height": null,
            "justify_content": null,
            "justify_items": null,
            "left": null,
            "margin": null,
            "max_height": null,
            "max_width": null,
            "min_height": null,
            "min_width": null,
            "object_fit": null,
            "object_position": null,
            "order": null,
            "overflow": null,
            "overflow_x": null,
            "overflow_y": null,
            "padding": null,
            "right": null,
            "top": null,
            "visibility": null,
            "width": null
          }
        },
        "fc3ca7a2cccb4ccdbe56971850d8030d": {
          "model_module": "@jupyter-widgets/controls",
          "model_module_version": "1.5.0",
          "model_name": "DescriptionStyleModel",
          "state": {
            "_model_module": "@jupyter-widgets/controls",
            "_model_module_version": "1.5.0",
            "_model_name": "DescriptionStyleModel",
            "_view_count": null,
            "_view_module": "@jupyter-widgets/base",
            "_view_module_version": "1.2.0",
            "_view_name": "StyleView",
            "description_width": ""
          }
        },
        "fc73570dbf414f6f96366a27cd4c6572": {
          "model_module": "@jupyter-widgets/base",
          "model_module_version": "1.2.0",
          "model_name": "LayoutModel",
          "state": {
            "_model_module": "@jupyter-widgets/base",
            "_model_module_version": "1.2.0",
            "_model_name": "LayoutModel",
            "_view_count": null,
            "_view_module": "@jupyter-widgets/base",
            "_view_module_version": "1.2.0",
            "_view_name": "LayoutView",
            "align_content": null,
            "align_items": null,
            "align_self": null,
            "border": null,
            "bottom": null,
            "display": null,
            "flex": null,
            "flex_flow": null,
            "grid_area": null,
            "grid_auto_columns": null,
            "grid_auto_flow": null,
            "grid_auto_rows": null,
            "grid_column": null,
            "grid_gap": null,
            "grid_row": null,
            "grid_template_areas": null,
            "grid_template_columns": null,
            "grid_template_rows": null,
            "height": null,
            "justify_content": null,
            "justify_items": null,
            "left": null,
            "margin": null,
            "max_height": null,
            "max_width": null,
            "min_height": null,
            "min_width": null,
            "object_fit": null,
            "object_position": null,
            "order": null,
            "overflow": null,
            "overflow_x": null,
            "overflow_y": null,
            "padding": null,
            "right": null,
            "top": null,
            "visibility": null,
            "width": null
          }
        },
        "fca36d64c1b44f22a02e448fff9327e8": {
          "model_module": "@jupyter-widgets/controls",
          "model_module_version": "1.5.0",
          "model_name": "HTMLModel",
          "state": {
            "_dom_classes": [],
            "_model_module": "@jupyter-widgets/controls",
            "_model_module_version": "1.5.0",
            "_model_name": "HTMLModel",
            "_view_count": null,
            "_view_module": "@jupyter-widgets/controls",
            "_view_module_version": "1.5.0",
            "_view_name": "HTMLView",
            "description": "",
            "description_tooltip": null,
            "layout": "IPY_MODEL_5ad37b63abe64accbe439eee28de190f",
            "placeholder": "​",
            "style": "IPY_MODEL_2e671d41542542f3bb5eaf6b20d73e71",
            "value": "Downloading: 100%"
          }
        },
        "fe3cb470cee14aa4976f83eea72a2287": {
          "model_module": "@jupyter-widgets/base",
          "model_module_version": "1.2.0",
          "model_name": "LayoutModel",
          "state": {
            "_model_module": "@jupyter-widgets/base",
            "_model_module_version": "1.2.0",
            "_model_name": "LayoutModel",
            "_view_count": null,
            "_view_module": "@jupyter-widgets/base",
            "_view_module_version": "1.2.0",
            "_view_name": "LayoutView",
            "align_content": null,
            "align_items": null,
            "align_self": null,
            "border": null,
            "bottom": null,
            "display": null,
            "flex": null,
            "flex_flow": null,
            "grid_area": null,
            "grid_auto_columns": null,
            "grid_auto_flow": null,
            "grid_auto_rows": null,
            "grid_column": null,
            "grid_gap": null,
            "grid_row": null,
            "grid_template_areas": null,
            "grid_template_columns": null,
            "grid_template_rows": null,
            "height": null,
            "justify_content": null,
            "justify_items": null,
            "left": null,
            "margin": null,
            "max_height": null,
            "max_width": null,
            "min_height": null,
            "min_width": null,
            "object_fit": null,
            "object_position": null,
            "order": null,
            "overflow": null,
            "overflow_x": null,
            "overflow_y": null,
            "padding": null,
            "right": null,
            "top": null,
            "visibility": null,
            "width": null
          }
        }
      }
    }
  },
  "nbformat": 4,
  "nbformat_minor": 0
}
